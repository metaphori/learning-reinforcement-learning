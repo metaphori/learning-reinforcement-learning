{
 "cells": [
  {
   "cell_type": "markdown",
   "metadata": {},
   "source": [
    "## Ch. 2 - Multi-Arm Bandit\n",
    "\n",
    "In epsilon-greedy action selection, for the case of two actions and epsilon= 0.5, what is\n",
    "the probability that the greedy action is selected?"
   ]
  },
  {
   "cell_type": "code",
   "execution_count": 58,
   "metadata": {
    "pycharm": {
     "is_executing": false
    }
   },
   "outputs": [
    {
     "name": "stdout",
     "text": [
      "START.\n"
     ],
     "output_type": "stream"
    }
   ],
   "source": [
    "import numpy as np\n",
    "from scipy import stats\n",
    "import random\n",
    "import matplotlib.pyplot as plt\n",
    "\n",
    "print(\"START.\")"
   ]
  },
  {
   "cell_type": "markdown",
   "metadata": {
    "pycharm": {
     "name": "#%% md\n"
    }
   },
   "source": [
    "Solving the multi-arm bandit\n",
    "\n",
    "- Problem\n",
    "    - We have `n_arms=10` arms\n",
    "    - Each arm has a probability of getting +1 reward\n"
   ]
  },
  {
   "cell_type": "code",
   "execution_count": 59,
   "metadata": {
    "pycharm": {
     "is_executing": false,
     "name": "#%%\n"
    }
   },
   "outputs": [
    {
     "name": "stdout",
     "text": [
      "Action:  0\nAction:  4\nAction:  4\nAction:  6\nAction:  6\nAction:  6\nAction:  6\nAction:  6\nAction:  6\nAction:  6\nAction:  9\nAction:  6\nAction:  6\nAction:  6\nAction:  6\nAction:  6\nAction:  6\nAction:  6\nAction:  6\nAction:  6\nAction:  6\nAction:  6\nAction:  0\nAction:  6\nAction:  6\nAction:  6\nAction:  6\nAction:  6\nAction:  6\nAction:  6\nAction:  6\nAction:  6\nAction:  6\nAction:  7\nAction:  1\nAction:  6\nAction:  6\nAction:  6\nAction:  6\nAction:  6\nAction:  6\nAction:  6\nAction:  6\nAction:  6\nAction:  6\nAction:  6\nAction:  6\nAction:  8\nAction:  1\nAction:  6\n[0.16805518 0.45910156 0.54926046 0.91546765 0.66219861 0.09252366\n 0.98296339 0.06803005 0.43540748 0.80314722]\n"
     ],
     "output_type": "stream"
    },
    {
     "data": {
      "text/plain": "<Figure size 432x288 with 1 Axes>",
      "image/png": "[encoded data removed]"
     },
     "metadata": {
      "needs_background": "light"
     },
     "output_type": "display_data"
    }
   ],
   "source": [
    "n_arms = 10\n",
    "probs = np.random.rand(n_arms) # for each arm, a probability to get +1 reward\n",
    "record = np.zeros((n_arms,2)) # n pairs (num times arm pulled, running avg reward)\n",
    "\n",
    "def get_reward(prob, n=10):\n",
    "    reward = 0\n",
    "    for i in range(n): \n",
    "        if random.random() < prob: reward += 1\n",
    "    return reward\n",
    "\n",
    "def update_record(record, action, r):\n",
    "    new_r = (record[action,0] * record[action,1] + r) / (record[action,0] + 1)\n",
    "    record[action,0] += 1\n",
    "    record[action,1] = new_r\n",
    "    return record\n",
    "\n",
    "def get_best_arm(record): \n",
    "    return np.argmax(record[:,1], axis=0)\n",
    "\n",
    "fig, ax = plt.subplots(1,1)\n",
    "ax.set_xlabel(\"Plays\")\n",
    "ax.set_ylabel(\"Avg rewards\")\n",
    "\n",
    "rep = 500 # number of repetitions\n",
    "eps = 0.1 # for epsilon-greedy\n",
    "\n",
    "rewards = [0]\n",
    "\n",
    "# Main loop for the n-armed bandit game\n",
    "for i in range(rep):\n",
    "    # Epsilon-greedy selection of action\n",
    "    if random.random() > eps:\n",
    "        choice = get_best_arm(record)\n",
    "    else: \n",
    "        choice = np.random.randint(n_arms)\n",
    "    if i % 10 == 0: print(\"Action: \", choice)\n",
    "    r = get_reward(probs[choice])\n",
    "    record = update_record(record, choice, r)\n",
    "    mean_reward = ((i + 1) * rewards[-1] + r) / (i + 2)\n",
    "    rewards.append(mean_reward)\n",
    "    \n",
    "ax.scatter(np.arange(len(rewards)), rewards)\n",
    "\n",
    "print(probs)"
   ]
  }
 ],
 "metadata": {
  "kernelspec": {
   "display_name": "Python 3",
   "language": "python",
   "name": "python3"
  },
  "language_info": {
   "codemirror_mode": {
    "name": "ipython",
    "version": 3
   },
   "file_extension": ".py",
   "mimetype": "text/x-python",
   "name": "python",
   "nbconvert_exporter": "python",
   "pygments_lexer": "ipython3",
   "version": "3.7.3"
  },
  "pycharm": {
   "stem_cell": {
    "cell_type": "raw",
    "source": [],
    "metadata": {
     "collapsed": false
    }
   }
  }
 },
 "nbformat": 4,
 "nbformat_minor": 2
}