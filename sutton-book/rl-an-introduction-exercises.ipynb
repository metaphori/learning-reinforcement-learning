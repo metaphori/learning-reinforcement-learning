{
 "cells": [
  {
   "cell_type": "markdown",
   "metadata": {},
   "source": [
    "#### Exercise 2.1 \n",
    "\n",
    "In epsilon-greedy action selection, for the case of two actions and epsilon= 0.5, what is\n",
    "the probability that the greedy action is selected?"
   ]
  },
  {
   "cell_type": "code",
   "execution_count": 3,
   "metadata": {},
   "outputs": [],
   "source": [
    "import os\n",
    "os.sys.path.insert(0, os.path.abspath('sutton-book/10-armed-bandit'))"
   ]
  },
  {
   "cell_type": "code",
   "execution_count": 4,
   "metadata": {},
   "outputs": [
    {
     "name": "stdout",
     "output_type": "stream",
     "text": [
      "K-ARMED BANDIT PROBLEM\n",
      "*****************\n",
      "\n"
     ]
    }
   ],
   "source": [
    "rl = __import__(\"k-bandit-oop-design\")"
   ]
  },
  {
   "cell_type": "code",
   "execution_count": 11,
   "metadata": {},
   "outputs": [
    {
     "data": {
      "text/plain": [
       "0"
      ]
     },
     "execution_count": 11,
     "metadata": {},
     "output_type": "execute_result"
    }
   ],
   "source": [
    "greedy05 = rl.RLGreedyMethod(0.5)\n",
    "greedy05.estimate_value(rl.ActionHistoryData(rl.Action(0)), rl.ValueEstimates({ 0: 5, 1: 2 }))"
   ]
  },
  {
   "cell_type": "code",
   "execution_count": 14,
   "metadata": {},
   "outputs": [
    {
     "name": "stdout",
     "output_type": "stream",
     "text": [
      "The probability is  0.75\n"
     ]
    }
   ],
   "source": [
    "p = 0.5+0.5*0.5\n",
    "print(\"The probability is \", p)"
   ]
  },
  {
   "cell_type": "code",
   "execution_count": null,
   "metadata": {},
   "outputs": [],
   "source": []
  }
 ],
 "metadata": {
  "kernelspec": {
   "display_name": "Python 3",
   "language": "python",
   "name": "python3"
  },
  "language_info": {
   "codemirror_mode": {
    "name": "ipython",
    "version": 3
   },
   "file_extension": ".py",
   "mimetype": "text/x-python",
   "name": "python",
   "nbconvert_exporter": "python",
   "pygments_lexer": "ipython3",
   "version": "3.7.3"
  }
 },
 "nbformat": 4,
 "nbformat_minor": 2
}
